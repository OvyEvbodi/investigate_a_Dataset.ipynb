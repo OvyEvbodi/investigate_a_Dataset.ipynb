{
 "cells": [
  {
   "cell_type": "markdown",
   "id": "a42768db",
   "metadata": {},
   "source": [
    "# Project: Investigate a Dataset - No-show Appointments\n",
    "\n",
    "## Table of Contents\n",
    "<ul>\n",
    "<li><a href=\"#intro\">Introduction</a></li>\n",
    "<li><a href=\"#wrangling\">Data Wrangling</a></li>\n",
    "<li><a href=\"#eda\">Exploratory Data Analysis</a></li>\n",
    "<li><a href=\"#conclusions\">Conclusions</a></li>\n",
    "</ul>"
   ]
  },
  {
   "cell_type": "markdown",
   "id": "a736b625",
   "metadata": {},
   "source": [
    "<a id='intro'></a>\n",
    "## Introduction"
   ]
  },
  {
   "cell_type": "markdown",
   "id": "523540e3",
   "metadata": {},
   "source": [
    "The objective of this investigation is to determine what factors may be helpful in predicting whether or not a patient would miss their scheduled hospital appointment. For this investigation, we used a dataset from [Kaggle](https://www.kaggle.com/datasets/joniarroba/noshowappointments) that collects information from over 100k medical appointments in Brazil. <br>\n",
    "The dataset contains 11 column: AppointmentID, Gender,\tScheduledDay,\tAppointmentDay,\tAge,\tNeighbourhood,\tScholarship,\tHipertension,\tDiabetes,\tAlcoholism,\tHandcap,\tSMS_received,\tNo-Show.\n",
    "The dependent variable in this dataset is the 'no-show' column, and we will be trying to find out how the other variables affect it.<br> In this analysis, I am going to highlight some of the possible factors that may determine whether or not a patient will show up for their appointment, and carry out exploratory data analysis on each highlighted variable to discover any correlations between that variable and the dependent variable: no-show."
   ]
  },
  {
   "cell_type": "markdown",
   "id": "f67a73cc",
   "metadata": {},
   "source": [
    "***"
   ]
  },
  {
   "cell_type": "markdown",
   "id": "8161aa04",
   "metadata": {},
   "source": [
    "## Let's begin our anaysis by importing all the packages that would aid in the exploration and visualization of our dataset."
   ]
  },
  {
   "cell_type": "code",
   "execution_count": 1,
   "id": "2f465f5e",
   "metadata": {},
   "outputs": [],
   "source": [
    "#importing packages\n",
    "import pandas as pd\n",
    "import numpy as np\n",
    "import matplotlib.pyplot as plt\n",
    "import seaborn as sns\n",
    "#some visualization settings\n",
    "%matplotlib inline\n",
    "sns.set_style('darkgrid')"
   ]
  },
  {
   "cell_type": "markdown",
   "id": "231717ae",
   "metadata": {},
   "source": [
    "<a id='wrangling'></a>\n",
    "## Data wrangling"
   ]
  },
  {
   "cell_type": "markdown",
   "id": "f9ecc098",
   "metadata": {},
   "source": [
    "***"
   ]
  },
  {
   "cell_type": "markdown",
   "id": "f2789bfd",
   "metadata": {},
   "source": [
    "Now, it's time to extract the data from from the ..... csv dataset, and scan through a cross-section of it to have a vague understanding of what we're working with."
   ]
  },
  {
   "cell_type": "code",
   "execution_count": 2,
   "id": "9b16aacb",
   "metadata": {},
   "outputs": [
    {
     "data": {
      "text/html": [
       "<div>\n",
       "<style scoped>\n",
       "    .dataframe tbody tr th:only-of-type {\n",
       "        vertical-align: middle;\n",
       "    }\n",
       "\n",
       "    .dataframe tbody tr th {\n",
       "        vertical-align: top;\n",
       "    }\n",
       "\n",
       "    .dataframe thead th {\n",
       "        text-align: right;\n",
       "    }\n",
       "</style>\n",
       "<table border=\"1\" class=\"dataframe\">\n",
       "  <thead>\n",
       "    <tr style=\"text-align: right;\">\n",
       "      <th></th>\n",
       "      <th>PatientId</th>\n",
       "      <th>AppointmentID</th>\n",
       "      <th>Gender</th>\n",
       "      <th>ScheduledDay</th>\n",
       "      <th>AppointmentDay</th>\n",
       "      <th>Age</th>\n",
       "      <th>Neighbourhood</th>\n",
       "      <th>Scholarship</th>\n",
       "      <th>Hipertension</th>\n",
       "      <th>Diabetes</th>\n",
       "      <th>Alcoholism</th>\n",
       "      <th>Handcap</th>\n",
       "      <th>SMS_received</th>\n",
       "      <th>No-show</th>\n",
       "    </tr>\n",
       "  </thead>\n",
       "  <tbody>\n",
       "    <tr>\n",
       "      <th>0</th>\n",
       "      <td>2.987250e+13</td>\n",
       "      <td>5642903</td>\n",
       "      <td>F</td>\n",
       "      <td>2016-04-29T18:38:08Z</td>\n",
       "      <td>2016-04-29T00:00:00Z</td>\n",
       "      <td>62</td>\n",
       "      <td>JARDIM DA PENHA</td>\n",
       "      <td>0</td>\n",
       "      <td>1</td>\n",
       "      <td>0</td>\n",
       "      <td>0</td>\n",
       "      <td>0</td>\n",
       "      <td>0</td>\n",
       "      <td>No</td>\n",
       "    </tr>\n",
       "    <tr>\n",
       "      <th>1</th>\n",
       "      <td>5.589978e+14</td>\n",
       "      <td>5642503</td>\n",
       "      <td>M</td>\n",
       "      <td>2016-04-29T16:08:27Z</td>\n",
       "      <td>2016-04-29T00:00:00Z</td>\n",
       "      <td>56</td>\n",
       "      <td>JARDIM DA PENHA</td>\n",
       "      <td>0</td>\n",
       "      <td>0</td>\n",
       "      <td>0</td>\n",
       "      <td>0</td>\n",
       "      <td>0</td>\n",
       "      <td>0</td>\n",
       "      <td>No</td>\n",
       "    </tr>\n",
       "    <tr>\n",
       "      <th>2</th>\n",
       "      <td>4.262962e+12</td>\n",
       "      <td>5642549</td>\n",
       "      <td>F</td>\n",
       "      <td>2016-04-29T16:19:04Z</td>\n",
       "      <td>2016-04-29T00:00:00Z</td>\n",
       "      <td>62</td>\n",
       "      <td>MATA DA PRAIA</td>\n",
       "      <td>0</td>\n",
       "      <td>0</td>\n",
       "      <td>0</td>\n",
       "      <td>0</td>\n",
       "      <td>0</td>\n",
       "      <td>0</td>\n",
       "      <td>No</td>\n",
       "    </tr>\n",
       "    <tr>\n",
       "      <th>3</th>\n",
       "      <td>8.679512e+11</td>\n",
       "      <td>5642828</td>\n",
       "      <td>F</td>\n",
       "      <td>2016-04-29T17:29:31Z</td>\n",
       "      <td>2016-04-29T00:00:00Z</td>\n",
       "      <td>8</td>\n",
       "      <td>PONTAL DE CAMBURI</td>\n",
       "      <td>0</td>\n",
       "      <td>0</td>\n",
       "      <td>0</td>\n",
       "      <td>0</td>\n",
       "      <td>0</td>\n",
       "      <td>0</td>\n",
       "      <td>No</td>\n",
       "    </tr>\n",
       "    <tr>\n",
       "      <th>4</th>\n",
       "      <td>8.841186e+12</td>\n",
       "      <td>5642494</td>\n",
       "      <td>F</td>\n",
       "      <td>2016-04-29T16:07:23Z</td>\n",
       "      <td>2016-04-29T00:00:00Z</td>\n",
       "      <td>56</td>\n",
       "      <td>JARDIM DA PENHA</td>\n",
       "      <td>0</td>\n",
       "      <td>1</td>\n",
       "      <td>1</td>\n",
       "      <td>0</td>\n",
       "      <td>0</td>\n",
       "      <td>0</td>\n",
       "      <td>No</td>\n",
       "    </tr>\n",
       "  </tbody>\n",
       "</table>\n",
       "</div>"
      ],
      "text/plain": [
       "      PatientId  AppointmentID Gender          ScheduledDay  \\\n",
       "0  2.987250e+13        5642903      F  2016-04-29T18:38:08Z   \n",
       "1  5.589978e+14        5642503      M  2016-04-29T16:08:27Z   \n",
       "2  4.262962e+12        5642549      F  2016-04-29T16:19:04Z   \n",
       "3  8.679512e+11        5642828      F  2016-04-29T17:29:31Z   \n",
       "4  8.841186e+12        5642494      F  2016-04-29T16:07:23Z   \n",
       "\n",
       "         AppointmentDay  Age      Neighbourhood  Scholarship  Hipertension  \\\n",
       "0  2016-04-29T00:00:00Z   62    JARDIM DA PENHA            0             1   \n",
       "1  2016-04-29T00:00:00Z   56    JARDIM DA PENHA            0             0   \n",
       "2  2016-04-29T00:00:00Z   62      MATA DA PRAIA            0             0   \n",
       "3  2016-04-29T00:00:00Z    8  PONTAL DE CAMBURI            0             0   \n",
       "4  2016-04-29T00:00:00Z   56    JARDIM DA PENHA            0             1   \n",
       "\n",
       "   Diabetes  Alcoholism  Handcap  SMS_received No-show  \n",
       "0         0           0        0             0      No  \n",
       "1         0           0        0             0      No  \n",
       "2         0           0        0             0      No  \n",
       "3         0           0        0             0      No  \n",
       "4         1           0        0             0      No  "
      ]
     },
     "execution_count": 2,
     "metadata": {},
     "output_type": "execute_result"
    }
   ],
   "source": [
    "#loading the dataset\n",
    "no_show = pd.read_csv('noshowappointments-kagglev2-may-2016.csv')\n",
    "no_show.head()"
   ]
  },
  {
   "cell_type": "markdown",
   "id": "8329ea70",
   "metadata": {},
   "source": [
    "## Some questions "
   ]
  },
  {
   "cell_type": "markdown",
   "id": "264f3f10",
   "metadata": {},
   "source": [
    "What factors are\n",
    "important for us to\n",
    "know in order to\n",
    "predict if a patient will\n",
    "show up for their\n",
    "scheduled\n",
    "appointment?\n",
    "* Does age help in the prediction of whether or not patients will show up for their appointments?\n",
    "* Does gender help in the prediction of whether or not patients will show up for their appointments?\n",
    "* Do chronic medical conditiond determine whether or not patients will show up for their appointments?\n",
    "* Do patients who receive scholarships tend to miss their appointments more than those who do not?"
   ]
  },
  {
   "cell_type": "markdown",
   "id": "bc1fe3f0",
   "metadata": {},
   "source": [
    "To understand this dataframe, we need to get a brief desciption of it. In the suceeding code cell, I'll be taking a look at the summary of the various features of our dataframe to shed some insight on that."
   ]
  },
  {
   "cell_type": "code",
   "execution_count": 3,
   "id": "66d9ed9e",
   "metadata": {
    "scrolled": true
   },
   "outputs": [],
   "source": [
    "#no_show.info()"
   ]
  },
  {
   "cell_type": "markdown",
   "id": "870289b4",
   "metadata": {},
   "source": [
    "We can clearly deduce that there are 110527 rows(entries) and 14 columns, all with no missing values. For clarity sake, I'll go ahead and verify this with a simple one line summary in the code below, we can never be too safe!"
   ]
  },
  {
   "cell_type": "code",
   "execution_count": 4,
   "id": "36f6033d",
   "metadata": {},
   "outputs": [
    {
     "data": {
      "text/plain": [
       "(110527, 14)"
      ]
     },
     "execution_count": 4,
     "metadata": {},
     "output_type": "execute_result"
    }
   ],
   "source": [
    "no_show.shape"
   ]
  },
  {
   "cell_type": "code",
   "execution_count": 5,
   "id": "cf6eb010",
   "metadata": {},
   "outputs": [
    {
     "data": {
      "text/plain": [
       "PatientId         0\n",
       "AppointmentID     0\n",
       "Gender            0\n",
       "ScheduledDay      0\n",
       "AppointmentDay    0\n",
       "Age               0\n",
       "Neighbourhood     0\n",
       "Scholarship       0\n",
       "Hipertension      0\n",
       "Diabetes          0\n",
       "Alcoholism        0\n",
       "Handcap           0\n",
       "SMS_received      0\n",
       "No-show           0\n",
       "dtype: int64"
      ]
     },
     "execution_count": 5,
     "metadata": {},
     "output_type": "execute_result"
    }
   ],
   "source": [
    "no_show.isnull().sum()"
   ]
  },
  {
   "cell_type": "markdown",
   "id": "786e3e7c",
   "metadata": {},
   "source": [
    "Amazing! Now,let's get statistical summary on all non-object value columns in our dataframe."
   ]
  },
  {
   "cell_type": "code",
   "execution_count": 6,
   "id": "229254cf",
   "metadata": {
    "scrolled": true
   },
   "outputs": [
    {
     "data": {
      "text/html": [
       "<div>\n",
       "<style scoped>\n",
       "    .dataframe tbody tr th:only-of-type {\n",
       "        vertical-align: middle;\n",
       "    }\n",
       "\n",
       "    .dataframe tbody tr th {\n",
       "        vertical-align: top;\n",
       "    }\n",
       "\n",
       "    .dataframe thead th {\n",
       "        text-align: right;\n",
       "    }\n",
       "</style>\n",
       "<table border=\"1\" class=\"dataframe\">\n",
       "  <thead>\n",
       "    <tr style=\"text-align: right;\">\n",
       "      <th></th>\n",
       "      <th>PatientId</th>\n",
       "      <th>AppointmentID</th>\n",
       "      <th>Age</th>\n",
       "      <th>Scholarship</th>\n",
       "      <th>Hipertension</th>\n",
       "      <th>Diabetes</th>\n",
       "      <th>Alcoholism</th>\n",
       "      <th>Handcap</th>\n",
       "      <th>SMS_received</th>\n",
       "    </tr>\n",
       "  </thead>\n",
       "  <tbody>\n",
       "    <tr>\n",
       "      <th>count</th>\n",
       "      <td>1.105270e+05</td>\n",
       "      <td>1.105270e+05</td>\n",
       "      <td>110527.000000</td>\n",
       "      <td>110527.000000</td>\n",
       "      <td>110527.000000</td>\n",
       "      <td>110527.000000</td>\n",
       "      <td>110527.000000</td>\n",
       "      <td>110527.000000</td>\n",
       "      <td>110527.000000</td>\n",
       "    </tr>\n",
       "    <tr>\n",
       "      <th>mean</th>\n",
       "      <td>1.474963e+14</td>\n",
       "      <td>5.675305e+06</td>\n",
       "      <td>37.088874</td>\n",
       "      <td>0.098266</td>\n",
       "      <td>0.197246</td>\n",
       "      <td>0.071865</td>\n",
       "      <td>0.030400</td>\n",
       "      <td>0.022248</td>\n",
       "      <td>0.321026</td>\n",
       "    </tr>\n",
       "    <tr>\n",
       "      <th>std</th>\n",
       "      <td>2.560949e+14</td>\n",
       "      <td>7.129575e+04</td>\n",
       "      <td>23.110205</td>\n",
       "      <td>0.297675</td>\n",
       "      <td>0.397921</td>\n",
       "      <td>0.258265</td>\n",
       "      <td>0.171686</td>\n",
       "      <td>0.161543</td>\n",
       "      <td>0.466873</td>\n",
       "    </tr>\n",
       "    <tr>\n",
       "      <th>min</th>\n",
       "      <td>3.921784e+04</td>\n",
       "      <td>5.030230e+06</td>\n",
       "      <td>-1.000000</td>\n",
       "      <td>0.000000</td>\n",
       "      <td>0.000000</td>\n",
       "      <td>0.000000</td>\n",
       "      <td>0.000000</td>\n",
       "      <td>0.000000</td>\n",
       "      <td>0.000000</td>\n",
       "    </tr>\n",
       "    <tr>\n",
       "      <th>25%</th>\n",
       "      <td>4.172614e+12</td>\n",
       "      <td>5.640286e+06</td>\n",
       "      <td>18.000000</td>\n",
       "      <td>0.000000</td>\n",
       "      <td>0.000000</td>\n",
       "      <td>0.000000</td>\n",
       "      <td>0.000000</td>\n",
       "      <td>0.000000</td>\n",
       "      <td>0.000000</td>\n",
       "    </tr>\n",
       "    <tr>\n",
       "      <th>50%</th>\n",
       "      <td>3.173184e+13</td>\n",
       "      <td>5.680573e+06</td>\n",
       "      <td>37.000000</td>\n",
       "      <td>0.000000</td>\n",
       "      <td>0.000000</td>\n",
       "      <td>0.000000</td>\n",
       "      <td>0.000000</td>\n",
       "      <td>0.000000</td>\n",
       "      <td>0.000000</td>\n",
       "    </tr>\n",
       "    <tr>\n",
       "      <th>75%</th>\n",
       "      <td>9.439172e+13</td>\n",
       "      <td>5.725524e+06</td>\n",
       "      <td>55.000000</td>\n",
       "      <td>0.000000</td>\n",
       "      <td>0.000000</td>\n",
       "      <td>0.000000</td>\n",
       "      <td>0.000000</td>\n",
       "      <td>0.000000</td>\n",
       "      <td>1.000000</td>\n",
       "    </tr>\n",
       "    <tr>\n",
       "      <th>max</th>\n",
       "      <td>9.999816e+14</td>\n",
       "      <td>5.790484e+06</td>\n",
       "      <td>115.000000</td>\n",
       "      <td>1.000000</td>\n",
       "      <td>1.000000</td>\n",
       "      <td>1.000000</td>\n",
       "      <td>1.000000</td>\n",
       "      <td>4.000000</td>\n",
       "      <td>1.000000</td>\n",
       "    </tr>\n",
       "  </tbody>\n",
       "</table>\n",
       "</div>"
      ],
      "text/plain": [
       "          PatientId  AppointmentID            Age    Scholarship  \\\n",
       "count  1.105270e+05   1.105270e+05  110527.000000  110527.000000   \n",
       "mean   1.474963e+14   5.675305e+06      37.088874       0.098266   \n",
       "std    2.560949e+14   7.129575e+04      23.110205       0.297675   \n",
       "min    3.921784e+04   5.030230e+06      -1.000000       0.000000   \n",
       "25%    4.172614e+12   5.640286e+06      18.000000       0.000000   \n",
       "50%    3.173184e+13   5.680573e+06      37.000000       0.000000   \n",
       "75%    9.439172e+13   5.725524e+06      55.000000       0.000000   \n",
       "max    9.999816e+14   5.790484e+06     115.000000       1.000000   \n",
       "\n",
       "        Hipertension       Diabetes     Alcoholism        Handcap  \\\n",
       "count  110527.000000  110527.000000  110527.000000  110527.000000   \n",
       "mean        0.197246       0.071865       0.030400       0.022248   \n",
       "std         0.397921       0.258265       0.171686       0.161543   \n",
       "min         0.000000       0.000000       0.000000       0.000000   \n",
       "25%         0.000000       0.000000       0.000000       0.000000   \n",
       "50%         0.000000       0.000000       0.000000       0.000000   \n",
       "75%         0.000000       0.000000       0.000000       0.000000   \n",
       "max         1.000000       1.000000       1.000000       4.000000   \n",
       "\n",
       "        SMS_received  \n",
       "count  110527.000000  \n",
       "mean        0.321026  \n",
       "std         0.466873  \n",
       "min         0.000000  \n",
       "25%         0.000000  \n",
       "50%         0.000000  \n",
       "75%         1.000000  \n",
       "max         1.000000  "
      ]
     },
     "execution_count": 6,
     "metadata": {},
     "output_type": "execute_result"
    }
   ],
   "source": [
    "no_show.describe()"
   ]
  },
  {
   "cell_type": "code",
   "execution_count": 7,
   "id": "b3df79a4",
   "metadata": {},
   "outputs": [
    {
     "data": {
      "image/png": "[encoded data removed]",
      "text/plain": [
       "<Figure size 864x864 with 9 Axes>"
      ]
     },
     "metadata": {},
     "output_type": "display_data"
    }
   ],
   "source": [
    "#histogram of dataframe\n",
    "no_show.hist(figsize=(12, 12), color=\"r\");"
   ]
  },
  {
   "cell_type": "markdown",
   "id": "ddc85c2c",
   "metadata": {},
   "source": [
    "### Cleaning the dataFrame"
   ]
  },
  {
   "cell_type": "markdown",
   "id": "f9824777",
   "metadata": {},
   "source": [
    "In this section, I will be checking for any null values, unconventional column naming conventions, outliers, and things that can negatively affect the quality of my analysis."
   ]
  },
  {
   "cell_type": "markdown",
   "id": "67efe387",
   "metadata": {},
   "source": [
    "***"
   ]
  },
  {
   "cell_type": "markdown",
   "id": "19464b2d",
   "metadata": {},
   "source": [
    "To prevent casing errors, and for uniformity sake, I decided to convert the titles of all the columns to lowercase."
   ]
  },
  {
   "cell_type": "code",
   "execution_count": 8,
   "id": "97d191e5",
   "metadata": {},
   "outputs": [],
   "source": [
    "#converting titles to lowercase, and renaming the no-show column to follow the python naming convention\n",
    "no_show.columns = no_show.columns.str.lower()\n",
    "no_show.rename(columns={'no-show':'no_show'}, inplace=True)\n",
    "#fixing the spelling error in the 'hipertension' and 'handcap' columns\n",
    "no_show.rename(columns={'hipertension':'hypertension'}, inplace=True)\n",
    "no_show.rename(columns={'handcap':'handicap'}, inplace=True)"
   ]
  },
  {
   "cell_type": "markdown",
   "id": "3068207c",
   "metadata": {},
   "source": [
    "One column seems to have some off values,the age column. In the code cell below, I'll check to see how many patients were younger than 0, because a person cannot be a negative number of years old. I'll then remove any such rows as they will most likely alter the quality of my analysis moving forward. Based on the metadata of this dataset, there is no information on the whether or not the patients were dependants, so I won't be discarding any rows that have an age value of 0, as they could have been babies carried to their appointments by their guardians. "
   ]
  },
  {
   "cell_type": "code",
   "execution_count": 9,
   "id": "d23d7536",
   "metadata": {},
   "outputs": [
    {
     "data": {
      "image/png": "[encoded data removed]",
      "text/plain": [
       "<Figure size 576x576 with 1 Axes>"
      ]
     },
     "metadata": {},
     "output_type": "display_data"
    }
   ],
   "source": [
    "#getting an idea of the distribution of ages within the age column\n",
    "no_show['age'].hist( figsize=(8, 8), color=\"g\");"
   ]
  },
  {
   "cell_type": "code",
   "execution_count": 10,
   "id": "b9478c00",
   "metadata": {},
   "outputs": [
    {
     "data": {
      "text/html": [
       "<div>\n",
       "<style scoped>\n",
       "    .dataframe tbody tr th:only-of-type {\n",
       "        vertical-align: middle;\n",
       "    }\n",
       "\n",
       "    .dataframe tbody tr th {\n",
       "        vertical-align: top;\n",
       "    }\n",
       "\n",
       "    .dataframe thead th {\n",
       "        text-align: right;\n",
       "    }\n",
       "</style>\n",
       "<table border=\"1\" class=\"dataframe\">\n",
       "  <thead>\n",
       "    <tr style=\"text-align: right;\">\n",
       "      <th></th>\n",
       "      <th>patientid</th>\n",
       "      <th>appointmentid</th>\n",
       "      <th>gender</th>\n",
       "      <th>scheduledday</th>\n",
       "      <th>appointmentday</th>\n",
       "      <th>age</th>\n",
       "      <th>neighbourhood</th>\n",
       "      <th>scholarship</th>\n",
       "      <th>hypertension</th>\n",
       "      <th>diabetes</th>\n",
       "      <th>alcoholism</th>\n",
       "      <th>handicap</th>\n",
       "      <th>sms_received</th>\n",
       "      <th>no_show</th>\n",
       "    </tr>\n",
       "  </thead>\n",
       "  <tbody>\n",
       "    <tr>\n",
       "      <th>99832</th>\n",
       "      <td>4.659432e+14</td>\n",
       "      <td>5775010</td>\n",
       "      <td>F</td>\n",
       "      <td>2016-06-06T08:58:13Z</td>\n",
       "      <td>2016-06-06T00:00:00Z</td>\n",
       "      <td>-1</td>\n",
       "      <td>ROMÃO</td>\n",
       "      <td>0</td>\n",
       "      <td>0</td>\n",
       "      <td>0</td>\n",
       "      <td>0</td>\n",
       "      <td>0</td>\n",
       "      <td>0</td>\n",
       "      <td>No</td>\n",
       "    </tr>\n",
       "  </tbody>\n",
       "</table>\n",
       "</div>"
      ],
      "text/plain": [
       "          patientid  appointmentid gender          scheduledday  \\\n",
       "99832  4.659432e+14        5775010      F  2016-06-06T08:58:13Z   \n",
       "\n",
       "             appointmentday  age neighbourhood  scholarship  hypertension  \\\n",
       "99832  2016-06-06T00:00:00Z   -1         ROMÃO            0             0   \n",
       "\n",
       "       diabetes  alcoholism  handicap  sms_received no_show  \n",
       "99832         0           0         0             0      No  "
      ]
     },
     "execution_count": 10,
     "metadata": {},
     "output_type": "execute_result"
    }
   ],
   "source": [
    "#getting all rows that have the age value set to any number less than 0\n",
    "no_show.query('age < 0')"
   ]
  },
  {
   "cell_type": "code",
   "execution_count": 11,
   "id": "afc4896f",
   "metadata": {},
   "outputs": [
    {
     "data": {
      "text/html": [
       "<div>\n",
       "<style scoped>\n",
       "    .dataframe tbody tr th:only-of-type {\n",
       "        vertical-align: middle;\n",
       "    }\n",
       "\n",
       "    .dataframe tbody tr th {\n",
       "        vertical-align: top;\n",
       "    }\n",
       "\n",
       "    .dataframe thead th {\n",
       "        text-align: right;\n",
       "    }\n",
       "</style>\n",
       "<table border=\"1\" class=\"dataframe\">\n",
       "  <thead>\n",
       "    <tr style=\"text-align: right;\">\n",
       "      <th></th>\n",
       "      <th>patientid</th>\n",
       "      <th>appointmentid</th>\n",
       "      <th>gender</th>\n",
       "      <th>scheduledday</th>\n",
       "      <th>appointmentday</th>\n",
       "      <th>age</th>\n",
       "      <th>neighbourhood</th>\n",
       "      <th>scholarship</th>\n",
       "      <th>hypertension</th>\n",
       "      <th>diabetes</th>\n",
       "      <th>alcoholism</th>\n",
       "      <th>handicap</th>\n",
       "      <th>sms_received</th>\n",
       "      <th>no_show</th>\n",
       "    </tr>\n",
       "  </thead>\n",
       "  <tbody>\n",
       "  </tbody>\n",
       "</table>\n",
       "</div>"
      ],
      "text/plain": [
       "Empty DataFrame\n",
       "Columns: [patientid, appointmentid, gender, scheduledday, appointmentday, age, neighbourhood, scholarship, hypertension, diabetes, alcoholism, handicap, sms_received, no_show]\n",
       "Index: []"
      ]
     },
     "execution_count": 11,
     "metadata": {},
     "output_type": "execute_result"
    }
   ],
   "source": [
    "#dropping that row\n",
    "no_show.drop(index= no_show.index[99832], inplace=True)\n",
    "#confirming what we did\n",
    "no_show.query('age < 0')\n"
   ]
  },
  {
   "cell_type": "code",
   "execution_count": 12,
   "id": "9f65476f",
   "metadata": {},
   "outputs": [
    {
     "data": {
      "text/plain": [
       "0"
      ]
     },
     "execution_count": 12,
     "metadata": {},
     "output_type": "execute_result"
    }
   ],
   "source": [
    "#checking for duplicate rows\n",
    "no_show.duplicated().sum()"
   ]
  },
  {
   "cell_type": "markdown",
   "id": "5d08a09f",
   "metadata": {},
   "source": [
    "There are no duplicate rows in this dataset, hence no filing or dropping of rows is required."
   ]
  },
  {
   "cell_type": "code",
   "execution_count": 13,
   "id": "07b98f75",
   "metadata": {
    "scrolled": true
   },
   "outputs": [
    {
     "data": {
      "text/html": [
       "<div>\n",
       "<style scoped>\n",
       "    .dataframe tbody tr th:only-of-type {\n",
       "        vertical-align: middle;\n",
       "    }\n",
       "\n",
       "    .dataframe tbody tr th {\n",
       "        vertical-align: top;\n",
       "    }\n",
       "\n",
       "    .dataframe thead th {\n",
       "        text-align: right;\n",
       "    }\n",
       "</style>\n",
       "<table border=\"1\" class=\"dataframe\">\n",
       "  <thead>\n",
       "    <tr style=\"text-align: right;\">\n",
       "      <th></th>\n",
       "      <th>patientid</th>\n",
       "      <th>appointmentid</th>\n",
       "      <th>gender</th>\n",
       "      <th>scheduledday</th>\n",
       "      <th>appointmentday</th>\n",
       "      <th>age</th>\n",
       "      <th>neighbourhood</th>\n",
       "      <th>scholarship</th>\n",
       "      <th>hypertension</th>\n",
       "      <th>diabetes</th>\n",
       "      <th>alcoholism</th>\n",
       "      <th>handicap</th>\n",
       "      <th>sms_received</th>\n",
       "      <th>no_show</th>\n",
       "    </tr>\n",
       "  </thead>\n",
       "  <tbody>\n",
       "    <tr>\n",
       "      <th>0</th>\n",
       "      <td>2.987250e+13</td>\n",
       "      <td>5642903</td>\n",
       "      <td>F</td>\n",
       "      <td>2016-04-29T18:38:08Z</td>\n",
       "      <td>2016-04-29T00:00:00Z</td>\n",
       "      <td>62</td>\n",
       "      <td>JARDIM DA PENHA</td>\n",
       "      <td>0</td>\n",
       "      <td>1</td>\n",
       "      <td>0</td>\n",
       "      <td>0</td>\n",
       "      <td>0</td>\n",
       "      <td>0</td>\n",
       "      <td>No</td>\n",
       "    </tr>\n",
       "    <tr>\n",
       "      <th>1</th>\n",
       "      <td>5.589978e+14</td>\n",
       "      <td>5642503</td>\n",
       "      <td>M</td>\n",
       "      <td>2016-04-29T16:08:27Z</td>\n",
       "      <td>2016-04-29T00:00:00Z</td>\n",
       "      <td>56</td>\n",
       "      <td>JARDIM DA PENHA</td>\n",
       "      <td>0</td>\n",
       "      <td>0</td>\n",
       "      <td>0</td>\n",
       "      <td>0</td>\n",
       "      <td>0</td>\n",
       "      <td>0</td>\n",
       "      <td>No</td>\n",
       "    </tr>\n",
       "    <tr>\n",
       "      <th>2</th>\n",
       "      <td>4.262962e+12</td>\n",
       "      <td>5642549</td>\n",
       "      <td>F</td>\n",
       "      <td>2016-04-29T16:19:04Z</td>\n",
       "      <td>2016-04-29T00:00:00Z</td>\n",
       "      <td>62</td>\n",
       "      <td>MATA DA PRAIA</td>\n",
       "      <td>0</td>\n",
       "      <td>0</td>\n",
       "      <td>0</td>\n",
       "      <td>0</td>\n",
       "      <td>0</td>\n",
       "      <td>0</td>\n",
       "      <td>No</td>\n",
       "    </tr>\n",
       "  </tbody>\n",
       "</table>\n",
       "</div>"
      ],
      "text/plain": [
       "      patientid  appointmentid gender          scheduledday  \\\n",
       "0  2.987250e+13        5642903      F  2016-04-29T18:38:08Z   \n",
       "1  5.589978e+14        5642503      M  2016-04-29T16:08:27Z   \n",
       "2  4.262962e+12        5642549      F  2016-04-29T16:19:04Z   \n",
       "\n",
       "         appointmentday  age    neighbourhood  scholarship  hypertension  \\\n",
       "0  2016-04-29T00:00:00Z   62  JARDIM DA PENHA            0             1   \n",
       "1  2016-04-29T00:00:00Z   56  JARDIM DA PENHA            0             0   \n",
       "2  2016-04-29T00:00:00Z   62    MATA DA PRAIA            0             0   \n",
       "\n",
       "   diabetes  alcoholism  handicap  sms_received no_show  \n",
       "0         0           0         0             0      No  \n",
       "1         0           0         0             0      No  \n",
       "2         0           0         0             0      No  "
      ]
     },
     "execution_count": 13,
     "metadata": {},
     "output_type": "execute_result"
    }
   ],
   "source": [
    "#confirming our changes\n",
    "no_show.head(3)"
   ]
  },
  {
   "cell_type": "code",
   "execution_count": 14,
   "id": "c0367f7b",
   "metadata": {},
   "outputs": [
    {
     "data": {
      "text/plain": [
       "110526"
      ]
     },
     "execution_count": 14,
     "metadata": {},
     "output_type": "execute_result"
    }
   ],
   "source": [
    "#getting the total number of rows in the dataFrame\n",
    "no_show.shape[0]"
   ]
  },
  {
   "cell_type": "code",
   "execution_count": 15,
   "id": "ec1956e1",
   "metadata": {},
   "outputs": [
    {
     "data": {
      "text/plain": [
       "110499"
      ]
     },
     "execution_count": 15,
     "metadata": {},
     "output_type": "execute_result"
    }
   ],
   "source": [
    "no_show['appointmentday'].duplicated().sum()"
   ]
  },
  {
   "cell_type": "code",
   "execution_count": 16,
   "id": "a960b34f",
   "metadata": {
    "scrolled": true
   },
   "outputs": [
    {
     "data": {
      "text/plain": [
       "6978"
      ]
     },
     "execution_count": 16,
     "metadata": {},
     "output_type": "execute_result"
    }
   ],
   "source": [
    "no_show['scheduledday'].duplicated().sum()"
   ]
  },
  {
   "cell_type": "code",
   "execution_count": 17,
   "id": "3439a633",
   "metadata": {},
   "outputs": [
    {
     "data": {
      "text/plain": [
       "99.97557135877531"
      ]
     },
     "execution_count": 17,
     "metadata": {},
     "output_type": "execute_result"
    }
   ],
   "source": [
    "(no_show['appointmentday'].duplicated().sum()) / len(no_show) * 100"
   ]
  },
  {
   "cell_type": "code",
   "execution_count": 18,
   "id": "e1c64c75",
   "metadata": {},
   "outputs": [
    {
     "data": {
      "text/plain": [
       "6.313446609847456"
      ]
     },
     "execution_count": 18,
     "metadata": {},
     "output_type": "execute_result"
    }
   ],
   "source": [
    "(no_show['scheduledday'].duplicated().sum()) / len(no_show) * 100"
   ]
  },
  {
   "cell_type": "markdown",
   "id": "9dc32621",
   "metadata": {},
   "source": [
    "### Now, let's drop some irrelevant columns to reduce the noise in our dataFrame."
   ]
  },
  {
   "cell_type": "markdown",
   "id": "0536d67e",
   "metadata": {},
   "source": [
    "The 'appointmentid' and 'patientid' columns certainly do not provide us with any useful information that directly or indirectly affects the no-show status of the patients in this dataset. The 'neighbourhood' column should also be dropped  because it's the location of the hospital and not where the patients live, hence, that information doesn't give us much insight as to whether of not there is a relationship between the neighbourhood of the patients and them showing up to their appointments. The 'appointmentday' and 'scheduldedday' columns cannot provide us with any statistical  All aforementioned columns are hence dropped."
   ]
  },
  {
   "cell_type": "code",
   "execution_count": 19,
   "id": "2d3b8920",
   "metadata": {},
   "outputs": [],
   "source": [
    "no_show.drop(['appointmentid', 'patientid', 'neighbourhood', 'scheduledday', 'appointmentday'], axis=1, inplace=True)"
   ]
  },
  {
   "cell_type": "code",
   "execution_count": 20,
   "id": "ad4cb46a",
   "metadata": {},
   "outputs": [
    {
     "data": {
      "text/html": [
       "<div>\n",
       "<style scoped>\n",
       "    .dataframe tbody tr th:only-of-type {\n",
       "        vertical-align: middle;\n",
       "    }\n",
       "\n",
       "    .dataframe tbody tr th {\n",
       "        vertical-align: top;\n",
       "    }\n",
       "\n",
       "    .dataframe thead th {\n",
       "        text-align: right;\n",
       "    }\n",
       "</style>\n",
       "<table border=\"1\" class=\"dataframe\">\n",
       "  <thead>\n",
       "    <tr style=\"text-align: right;\">\n",
       "      <th></th>\n",
       "      <th>gender</th>\n",
       "      <th>age</th>\n",
       "      <th>scholarship</th>\n",
       "      <th>hypertension</th>\n",
       "      <th>diabetes</th>\n",
       "      <th>alcoholism</th>\n",
       "      <th>handicap</th>\n",
       "      <th>sms_received</th>\n",
       "      <th>no_show</th>\n",
       "    </tr>\n",
       "  </thead>\n",
       "  <tbody>\n",
       "    <tr>\n",
       "      <th>0</th>\n",
       "      <td>F</td>\n",
       "      <td>62</td>\n",
       "      <td>0</td>\n",
       "      <td>1</td>\n",
       "      <td>0</td>\n",
       "      <td>0</td>\n",
       "      <td>0</td>\n",
       "      <td>0</td>\n",
       "      <td>No</td>\n",
       "    </tr>\n",
       "    <tr>\n",
       "      <th>1</th>\n",
       "      <td>M</td>\n",
       "      <td>56</td>\n",
       "      <td>0</td>\n",
       "      <td>0</td>\n",
       "      <td>0</td>\n",
       "      <td>0</td>\n",
       "      <td>0</td>\n",
       "      <td>0</td>\n",
       "      <td>No</td>\n",
       "    </tr>\n",
       "    <tr>\n",
       "      <th>2</th>\n",
       "      <td>F</td>\n",
       "      <td>62</td>\n",
       "      <td>0</td>\n",
       "      <td>0</td>\n",
       "      <td>0</td>\n",
       "      <td>0</td>\n",
       "      <td>0</td>\n",
       "      <td>0</td>\n",
       "      <td>No</td>\n",
       "    </tr>\n",
       "  </tbody>\n",
       "</table>\n",
       "</div>"
      ],
      "text/plain": [
       "  gender  age  scholarship  hypertension  diabetes  alcoholism  handicap  \\\n",
       "0      F   62            0             1         0           0         0   \n",
       "1      M   56            0             0         0           0         0   \n",
       "2      F   62            0             0         0           0         0   \n",
       "\n",
       "   sms_received no_show  \n",
       "0             0      No  \n",
       "1             0      No  \n",
       "2             0      No  "
      ]
     },
     "execution_count": 20,
     "metadata": {},
     "output_type": "execute_result"
    }
   ],
   "source": [
    "#confirming that those columns have indeed been dropped.\n",
    "no_show.head(3)"
   ]
  },
  {
   "cell_type": "code",
   "execution_count": 21,
   "id": "f8128e73",
   "metadata": {
    "scrolled": false
   },
   "outputs": [
    {
     "data": {
      "text/plain": [
       "gender            2\n",
       "age             103\n",
       "scholarship       2\n",
       "hypertension      2\n",
       "diabetes          2\n",
       "alcoholism        2\n",
       "handicap          5\n",
       "sms_received      2\n",
       "no_show           2\n",
       "dtype: int64"
      ]
     },
     "execution_count": 21,
     "metadata": {},
     "output_type": "execute_result"
    }
   ],
   "source": [
    "#broadly checking if our variables are quantitative or categorical\n",
    "no_show.nunique()"
   ]
  },
  {
   "cell_type": "markdown",
   "id": "33ec516d",
   "metadata": {},
   "source": [
    "The handicap column has 5 unique values instead of 2, as it is a categorical variable. "
   ]
  },
  {
   "cell_type": "code",
   "execution_count": 22,
   "id": "60011496",
   "metadata": {},
   "outputs": [
    {
     "data": {
      "text/html": [
       "<div>\n",
       "<style scoped>\n",
       "    .dataframe tbody tr th:only-of-type {\n",
       "        vertical-align: middle;\n",
       "    }\n",
       "\n",
       "    .dataframe tbody tr th {\n",
       "        vertical-align: top;\n",
       "    }\n",
       "\n",
       "    .dataframe thead th {\n",
       "        text-align: right;\n",
       "    }\n",
       "</style>\n",
       "<table border=\"1\" class=\"dataframe\">\n",
       "  <thead>\n",
       "    <tr style=\"text-align: right;\">\n",
       "      <th></th>\n",
       "      <th>gender</th>\n",
       "      <th>age</th>\n",
       "      <th>scholarship</th>\n",
       "      <th>hypertension</th>\n",
       "      <th>diabetes</th>\n",
       "      <th>alcoholism</th>\n",
       "      <th>handicap</th>\n",
       "      <th>sms_received</th>\n",
       "      <th>no_show</th>\n",
       "    </tr>\n",
       "  </thead>\n",
       "  <tbody>\n",
       "    <tr>\n",
       "      <th>946</th>\n",
       "      <td>M</td>\n",
       "      <td>94</td>\n",
       "      <td>0</td>\n",
       "      <td>1</td>\n",
       "      <td>1</td>\n",
       "      <td>0</td>\n",
       "      <td>2</td>\n",
       "      <td>1</td>\n",
       "      <td>No</td>\n",
       "    </tr>\n",
       "    <tr>\n",
       "      <th>1665</th>\n",
       "      <td>M</td>\n",
       "      <td>64</td>\n",
       "      <td>0</td>\n",
       "      <td>1</td>\n",
       "      <td>0</td>\n",
       "      <td>1</td>\n",
       "      <td>2</td>\n",
       "      <td>1</td>\n",
       "      <td>No</td>\n",
       "    </tr>\n",
       "    <tr>\n",
       "      <th>1666</th>\n",
       "      <td>M</td>\n",
       "      <td>64</td>\n",
       "      <td>0</td>\n",
       "      <td>1</td>\n",
       "      <td>0</td>\n",
       "      <td>1</td>\n",
       "      <td>2</td>\n",
       "      <td>0</td>\n",
       "      <td>No</td>\n",
       "    </tr>\n",
       "    <tr>\n",
       "      <th>2071</th>\n",
       "      <td>M</td>\n",
       "      <td>64</td>\n",
       "      <td>0</td>\n",
       "      <td>1</td>\n",
       "      <td>0</td>\n",
       "      <td>1</td>\n",
       "      <td>2</td>\n",
       "      <td>0</td>\n",
       "      <td>No</td>\n",
       "    </tr>\n",
       "    <tr>\n",
       "      <th>2091</th>\n",
       "      <td>F</td>\n",
       "      <td>11</td>\n",
       "      <td>0</td>\n",
       "      <td>0</td>\n",
       "      <td>0</td>\n",
       "      <td>0</td>\n",
       "      <td>2</td>\n",
       "      <td>0</td>\n",
       "      <td>No</td>\n",
       "    </tr>\n",
       "    <tr>\n",
       "      <th>...</th>\n",
       "      <td>...</td>\n",
       "      <td>...</td>\n",
       "      <td>...</td>\n",
       "      <td>...</td>\n",
       "      <td>...</td>\n",
       "      <td>...</td>\n",
       "      <td>...</td>\n",
       "      <td>...</td>\n",
       "      <td>...</td>\n",
       "    </tr>\n",
       "    <tr>\n",
       "      <th>108376</th>\n",
       "      <td>F</td>\n",
       "      <td>44</td>\n",
       "      <td>0</td>\n",
       "      <td>1</td>\n",
       "      <td>1</td>\n",
       "      <td>0</td>\n",
       "      <td>2</td>\n",
       "      <td>1</td>\n",
       "      <td>No</td>\n",
       "    </tr>\n",
       "    <tr>\n",
       "      <th>109484</th>\n",
       "      <td>M</td>\n",
       "      <td>64</td>\n",
       "      <td>0</td>\n",
       "      <td>1</td>\n",
       "      <td>1</td>\n",
       "      <td>0</td>\n",
       "      <td>2</td>\n",
       "      <td>0</td>\n",
       "      <td>No</td>\n",
       "    </tr>\n",
       "    <tr>\n",
       "      <th>109733</th>\n",
       "      <td>F</td>\n",
       "      <td>34</td>\n",
       "      <td>0</td>\n",
       "      <td>0</td>\n",
       "      <td>0</td>\n",
       "      <td>0</td>\n",
       "      <td>2</td>\n",
       "      <td>1</td>\n",
       "      <td>No</td>\n",
       "    </tr>\n",
       "    <tr>\n",
       "      <th>109975</th>\n",
       "      <td>M</td>\n",
       "      <td>39</td>\n",
       "      <td>1</td>\n",
       "      <td>0</td>\n",
       "      <td>0</td>\n",
       "      <td>0</td>\n",
       "      <td>2</td>\n",
       "      <td>1</td>\n",
       "      <td>No</td>\n",
       "    </tr>\n",
       "    <tr>\n",
       "      <th>110107</th>\n",
       "      <td>F</td>\n",
       "      <td>44</td>\n",
       "      <td>0</td>\n",
       "      <td>0</td>\n",
       "      <td>0</td>\n",
       "      <td>0</td>\n",
       "      <td>2</td>\n",
       "      <td>1</td>\n",
       "      <td>No</td>\n",
       "    </tr>\n",
       "  </tbody>\n",
       "</table>\n",
       "<p>199 rows × 9 columns</p>\n",
       "</div>"
      ],
      "text/plain": [
       "       gender  age  scholarship  hypertension  diabetes  alcoholism  handicap  \\\n",
       "946         M   94            0             1         1           0         2   \n",
       "1665        M   64            0             1         0           1         2   \n",
       "1666        M   64            0             1         0           1         2   \n",
       "2071        M   64            0             1         0           1         2   \n",
       "2091        F   11            0             0         0           0         2   \n",
       "...       ...  ...          ...           ...       ...         ...       ...   \n",
       "108376      F   44            0             1         1           0         2   \n",
       "109484      M   64            0             1         1           0         2   \n",
       "109733      F   34            0             0         0           0         2   \n",
       "109975      M   39            1             0         0           0         2   \n",
       "110107      F   44            0             0         0           0         2   \n",
       "\n",
       "        sms_received no_show  \n",
       "946                1      No  \n",
       "1665               1      No  \n",
       "1666               0      No  \n",
       "2071               0      No  \n",
       "2091               0      No  \n",
       "...              ...     ...  \n",
       "108376             1      No  \n",
       "109484             0      No  \n",
       "109733             1      No  \n",
       "109975             1      No  \n",
       "110107             1      No  \n",
       "\n",
       "[199 rows x 9 columns]"
      ]
     },
     "execution_count": 22,
     "metadata": {},
     "output_type": "execute_result"
    }
   ],
   "source": [
    "#exploring the handicap column\n",
    "no_show.query('handicap > 1')"
   ]
  },
  {
   "cell_type": "code",
   "execution_count": 23,
   "id": "c16e1b09",
   "metadata": {},
   "outputs": [
    {
     "data": {
      "text/html": [
       "<div>\n",
       "<style scoped>\n",
       "    .dataframe tbody tr th:only-of-type {\n",
       "        vertical-align: middle;\n",
       "    }\n",
       "\n",
       "    .dataframe tbody tr th {\n",
       "        vertical-align: top;\n",
       "    }\n",
       "\n",
       "    .dataframe thead th {\n",
       "        text-align: right;\n",
       "    }\n",
       "</style>\n",
       "<table border=\"1\" class=\"dataframe\">\n",
       "  <thead>\n",
       "    <tr style=\"text-align: right;\">\n",
       "      <th></th>\n",
       "      <th>gender</th>\n",
       "      <th>age</th>\n",
       "      <th>scholarship</th>\n",
       "      <th>hypertension</th>\n",
       "      <th>diabetes</th>\n",
       "      <th>alcoholism</th>\n",
       "      <th>handicap</th>\n",
       "      <th>sms_received</th>\n",
       "      <th>no_show</th>\n",
       "    </tr>\n",
       "  </thead>\n",
       "  <tbody>\n",
       "  </tbody>\n",
       "</table>\n",
       "</div>"
      ],
      "text/plain": [
       "Empty DataFrame\n",
       "Columns: [gender, age, scholarship, hypertension, diabetes, alcoholism, handicap, sms_received, no_show]\n",
       "Index: []"
      ]
     },
     "execution_count": 23,
     "metadata": {},
     "output_type": "execute_result"
    }
   ],
   "source": [
    "#dropping those rows\n",
    "no_show.drop(no_show.index[no_show['handicap'] > 1], inplace=True)\n",
    "#confirming what we just did\n",
    "no_show.query('handicap > 1')\n"
   ]
  },
  {
   "cell_type": "code",
   "execution_count": 24,
   "id": "5b5e0771",
   "metadata": {},
   "outputs": [
    {
     "data": {
      "text/html": [
       "<div>\n",
       "<style scoped>\n",
       "    .dataframe tbody tr th:only-of-type {\n",
       "        vertical-align: middle;\n",
       "    }\n",
       "\n",
       "    .dataframe tbody tr th {\n",
       "        vertical-align: top;\n",
       "    }\n",
       "\n",
       "    .dataframe thead th {\n",
       "        text-align: right;\n",
       "    }\n",
       "</style>\n",
       "<table border=\"1\" class=\"dataframe\">\n",
       "  <thead>\n",
       "    <tr style=\"text-align: right;\">\n",
       "      <th></th>\n",
       "      <th>gender</th>\n",
       "      <th>age</th>\n",
       "      <th>scholarship</th>\n",
       "      <th>hypertension</th>\n",
       "      <th>diabetes</th>\n",
       "      <th>alcoholism</th>\n",
       "      <th>handicap</th>\n",
       "      <th>sms_received</th>\n",
       "      <th>no_show</th>\n",
       "    </tr>\n",
       "  </thead>\n",
       "  <tbody>\n",
       "    <tr>\n",
       "      <th>0</th>\n",
       "      <td>F</td>\n",
       "      <td>62</td>\n",
       "      <td>0</td>\n",
       "      <td>1</td>\n",
       "      <td>0</td>\n",
       "      <td>0</td>\n",
       "      <td>0</td>\n",
       "      <td>0</td>\n",
       "      <td>No</td>\n",
       "    </tr>\n",
       "    <tr>\n",
       "      <th>1</th>\n",
       "      <td>M</td>\n",
       "      <td>56</td>\n",
       "      <td>0</td>\n",
       "      <td>0</td>\n",
       "      <td>0</td>\n",
       "      <td>0</td>\n",
       "      <td>0</td>\n",
       "      <td>0</td>\n",
       "      <td>No</td>\n",
       "    </tr>\n",
       "    <tr>\n",
       "      <th>2</th>\n",
       "      <td>F</td>\n",
       "      <td>62</td>\n",
       "      <td>0</td>\n",
       "      <td>0</td>\n",
       "      <td>0</td>\n",
       "      <td>0</td>\n",
       "      <td>0</td>\n",
       "      <td>0</td>\n",
       "      <td>No</td>\n",
       "    </tr>\n",
       "    <tr>\n",
       "      <th>3</th>\n",
       "      <td>F</td>\n",
       "      <td>8</td>\n",
       "      <td>0</td>\n",
       "      <td>0</td>\n",
       "      <td>0</td>\n",
       "      <td>0</td>\n",
       "      <td>0</td>\n",
       "      <td>0</td>\n",
       "      <td>No</td>\n",
       "    </tr>\n",
       "    <tr>\n",
       "      <th>4</th>\n",
       "      <td>F</td>\n",
       "      <td>56</td>\n",
       "      <td>0</td>\n",
       "      <td>1</td>\n",
       "      <td>1</td>\n",
       "      <td>0</td>\n",
       "      <td>0</td>\n",
       "      <td>0</td>\n",
       "      <td>No</td>\n",
       "    </tr>\n",
       "  </tbody>\n",
       "</table>\n",
       "</div>"
      ],
      "text/plain": [
       "  gender  age  scholarship  hypertension  diabetes  alcoholism  handicap  \\\n",
       "0      F   62            0             1         0           0         0   \n",
       "1      M   56            0             0         0           0         0   \n",
       "2      F   62            0             0         0           0         0   \n",
       "3      F    8            0             0         0           0         0   \n",
       "4      F   56            0             1         1           0         0   \n",
       "\n",
       "   sms_received no_show  \n",
       "0             0      No  \n",
       "1             0      No  \n",
       "2             0      No  \n",
       "3             0      No  \n",
       "4             0      No  "
      ]
     },
     "execution_count": 24,
     "metadata": {},
     "output_type": "execute_result"
    }
   ],
   "source": [
    "no_show.head()"
   ]
  },
  {
   "cell_type": "code",
   "execution_count": 25,
   "id": "35fe811d",
   "metadata": {
    "scrolled": true
   },
   "outputs": [
    {
     "name": "stdout",
     "output_type": "stream",
     "text": [
      "<class 'pandas.core.frame.DataFrame'>\n",
      "Int64Index: 110327 entries, 0 to 110526\n",
      "Data columns (total 9 columns):\n",
      " #   Column        Non-Null Count   Dtype \n",
      "---  ------        --------------   ----- \n",
      " 0   gender        110327 non-null  object\n",
      " 1   age           110327 non-null  int64 \n",
      " 2   scholarship   110327 non-null  int64 \n",
      " 3   hypertension  110327 non-null  int64 \n",
      " 4   diabetes      110327 non-null  int64 \n",
      " 5   alcoholism    110327 non-null  int64 \n",
      " 6   handicap      110327 non-null  int64 \n",
      " 7   sms_received  110327 non-null  int64 \n",
      " 8   no_show       110327 non-null  object\n",
      "dtypes: int64(7), object(2)\n",
      "memory usage: 8.4+ MB\n"
     ]
    }
   ],
   "source": [
    "#confirming that the datatypes of all relevant columns are appropriate.\n",
    "no_show.info()"
   ]
  },
  {
   "cell_type": "markdown",
   "id": "bb5733c2",
   "metadata": {},
   "source": [
    "<a id='eda'></a>\n",
    "# Exploratory data analysis"
   ]
  },
  {
   "cell_type": "markdown",
   "id": "c17193f5",
   "metadata": {},
   "source": [
    "***"
   ]
  },
  {
   "cell_type": "markdown",
   "id": "eb630e96",
   "metadata": {},
   "source": [
    "### Henceforth, I'll be checking the relationship between column to uncover any trends/patterns that may enable us to be able to predict patients that may miss thier appointments in the future."
   ]
  },
  {
   "cell_type": "markdown",
   "id": "92cdb4ce",
   "metadata": {},
   "source": [
    "The dependent column in this dataframe is the 'no-show' column, and I'd like to uncover any relationships between it and some of the non-dependent columns. "
   ]
  },
  {
   "cell_type": "markdown",
   "id": "31e4d486",
   "metadata": {},
   "source": [
    "### Let's begin by finding out the relationship between the 'gender' and the 'no_show' columns"
   ]
  },
  {
   "cell_type": "code",
   "execution_count": 26,
   "id": "0214cbfd",
   "metadata": {},
   "outputs": [
    {
     "data": {
      "image/png": "[encoded data removed]",
      "text/plain": [
       "<Figure size 432x288 with 1 Axes>"
      ]
     },
     "metadata": {},
     "output_type": "display_data"
    }
   ],
   "source": [
    "#Starting off with the visualization of the relationship between the 'gender' and the 'no_show' columns\n",
    "ax = sns.countplot(x=no_show['gender'], hue=no_show['no_show'], palette='Set2')\n",
    "ax.set_title('The relationship between gender and no-show')\n",
    "xlabels=['Female', 'Male']\n",
    "ax.set_xticklabels(xlabels)\n",
    "plt.show()"
   ]
  },
  {
   "cell_type": "markdown",
   "id": "08d15c4e",
   "metadata": {},
   "source": [
    "There appears to be way more women than men in this dataset, let's delve deeper into the distribution by finding the proportions of each gender that showed up or didn't show up for their appointments. "
   ]
  },
  {
   "cell_type": "code",
   "execution_count": 27,
   "id": "0fa13651",
   "metadata": {},
   "outputs": [
    {
     "data": {
      "text/plain": [
       "gender\n",
       "F    71730\n",
       "M    38597\n",
       "Name: no_show, dtype: int64"
      ]
     },
     "execution_count": 27,
     "metadata": {},
     "output_type": "execute_result"
    }
   ],
   "source": [
    "# getting the total counts for no-show for both genders\n",
    "gender_counts = no_show.groupby(['gender']).count()['no_show']\n",
    "gender_counts"
   ]
  },
  {
   "cell_type": "markdown",
   "id": "971b6fc6",
   "metadata": {},
   "source": [
    "Now, we can clearly see how many males and females we have in this dataFrame, but we would need to extract the total for each gender and save them into variables that can be mathematically operated on."
   ]
  },
  {
   "cell_type": "code",
   "execution_count": 28,
   "id": "da01e382",
   "metadata": {},
   "outputs": [
    {
     "data": {
      "text/plain": [
       "38597"
      ]
     },
     "execution_count": 28,
     "metadata": {},
     "output_type": "execute_result"
    }
   ],
   "source": [
    "#getting the total number of males in the dataFrame\n",
    "male_count = no_show[no_show['gender'] == 'M']\n",
    "male_count = no_show.query('gender == \"M\" ')\n",
    "male_count = male_count['gender'].count()\n",
    "male_count"
   ]
  },
  {
   "cell_type": "code",
   "execution_count": 29,
   "id": "8a25aeb8",
   "metadata": {},
   "outputs": [
    {
     "data": {
      "text/plain": [
       "71730"
      ]
     },
     "execution_count": 29,
     "metadata": {},
     "output_type": "execute_result"
    }
   ],
   "source": [
    "#getting the total number of females in the dataFrame\n",
    "female_count = no_show[no_show['gender'] == 'F']\n",
    "female_count = no_show.query('gender == \"F\" ')\n",
    "female_count =female_count['gender'].count()\n",
    "female_count"
   ]
  },
  {
   "cell_type": "markdown",
   "id": "48523560",
   "metadata": {},
   "source": [
    "Let's get the total number of each gender that showed up, and didn't show up to their appointments. I'm going to store them in seperate variables and find the percentages of each gender that showed up or not, then make an inference based on the results."
   ]
  },
  {
   "cell_type": "code",
   "execution_count": 30,
   "id": "69d7ee6a",
   "metadata": {},
   "outputs": [
    {
     "data": {
      "text/plain": [
       "30887"
      ]
     },
     "execution_count": 30,
     "metadata": {},
     "output_type": "execute_result"
    }
   ],
   "source": [
    "#finding out the number of males that showed up \n",
    "show_male = no_show[no_show['gender'] == 'M']\n",
    "show_male = no_show.query('gender == \"M\" and no_show == \"No\"')\n",
    "show_male = show_male['no_show'].count()\n",
    "show_male"
   ]
  },
  {
   "cell_type": "code",
   "execution_count": 31,
   "id": "a30bc670",
   "metadata": {},
   "outputs": [
    {
     "data": {
      "text/plain": [
       "7710"
      ]
     },
     "execution_count": 31,
     "metadata": {},
     "output_type": "execute_result"
    }
   ],
   "source": [
    "#finding out the number of males that didn't show up\n",
    "no_show_male = no_show[no_show['gender'] == 'M']\n",
    "no_show_male = no_show.query('gender == \"M\" and no_show == \"Yes\"')\n",
    "no_show_male = no_show_male['no_show'].count()\n",
    "no_show_male"
   ]
  },
  {
   "cell_type": "code",
   "execution_count": 32,
   "id": "ec3f9136",
   "metadata": {},
   "outputs": [
    {
     "data": {
      "text/plain": [
       "57162"
      ]
     },
     "execution_count": 32,
     "metadata": {},
     "output_type": "execute_result"
    }
   ],
   "source": [
    "##finding out the number of females that showed up\n",
    "show_female = no_show[no_show['gender'] == 'F']\n",
    "show_female = no_show.query('gender == \"F\" and no_show == \"No\"')\n",
    "show_female = show_female['no_show'].count()\n",
    "show_female"
   ]
  },
  {
   "cell_type": "code",
   "execution_count": 33,
   "id": "f9304794",
   "metadata": {},
   "outputs": [
    {
     "data": {
      "text/plain": [
       "14568"
      ]
     },
     "execution_count": 33,
     "metadata": {},
     "output_type": "execute_result"
    }
   ],
   "source": [
    "#finding out the number of females that didn't show up\n",
    "no_show_female = no_show[no_show['gender'] == 'F']\n",
    "no_show_female = no_show.query('gender == \"F\" and no_show == \"Yes\"')\n",
    "no_show_female = no_show_female['no_show'].count()\n",
    "no_show_female"
   ]
  },
  {
   "cell_type": "markdown",
   "id": "d8001796",
   "metadata": {},
   "source": [
    "Great! We have all our variables, let's create a simple function that takes 3 arguments: show, no_show and total to find out the various aforementioned percentages."
   ]
  },
  {
   "cell_type": "code",
   "execution_count": 34,
   "id": "76357088",
   "metadata": {},
   "outputs": [],
   "source": [
    "def no_show_percentage(show, no_show, total):\n",
    "    #creating a function that finds out the no-show percentage\n",
    "    show_percent = round(show / total * 100)\n",
    "    no_show_percent = round(no_show / total * 100)\n",
    "    return \"show {}%, no-show {}% \".format(show_percent, no_show_percent)\n",
    "    "
   ]
  },
  {
   "cell_type": "code",
   "execution_count": 35,
   "id": "b10380ae",
   "metadata": {},
   "outputs": [
    {
     "data": {
      "text/plain": [
       "'show 80%, no-show 20% '"
      ]
     },
     "execution_count": 35,
     "metadata": {},
     "output_type": "execute_result"
    }
   ],
   "source": [
    "#getting the percentages for males\n",
    "male_no_show_percentage = no_show_percentage(show_male, no_show_male, male_count)\n",
    "male_no_show_percentage"
   ]
  },
  {
   "cell_type": "code",
   "execution_count": 36,
   "id": "80fed63c",
   "metadata": {},
   "outputs": [
    {
     "data": {
      "text/plain": [
       "'show 80%, no-show 20% '"
      ]
     },
     "execution_count": 36,
     "metadata": {},
     "output_type": "execute_result"
    }
   ],
   "source": [
    "#getting the percentages for females\n",
    "female_no_show_percentage = no_show_percentage(show_female, no_show_female, female_count)\n",
    "female_no_show_percentage"
   ]
  },
  {
   "cell_type": "markdown",
   "id": "c6b20bad",
   "metadata": {},
   "source": [
    "We can deduce that there is no relationship between gender and showing up for appointments as the percentage for either males or females that did not show up for their appointments is 20%"
   ]
  },
  {
   "cell_type": "markdown",
   "id": "5074d83e",
   "metadata": {},
   "source": [
    "### Next, we would like to visualize the relationship between the ages of the patients and the 'no_show' columns"
   ]
  },
  {
   "cell_type": "markdown",
   "id": "5cfb2fc5",
   "metadata": {},
   "source": [
    "There are too many unique age values that can easily make our visualization clustered and difficult to understand, to tackle this problem, the values in the age column need to be grouped into distinct catergories. I'm going with the three broad categories: young, miiddle-aged and old. Presenting our chart this way makes the visualization process significantly cleaner."
   ]
  },
  {
   "cell_type": "code",
   "execution_count": 37,
   "id": "5ecff792",
   "metadata": {},
   "outputs": [],
   "source": [
    "#grouping the values in the age column into 3, and creating a variable that holds the age groups \n",
    "age_bins = pd.cut(no_show['age'], bins=3, labels=('young','middle-aged', 'old'))\n"
   ]
  },
  {
   "cell_type": "code",
   "execution_count": 38,
   "id": "8a93013a",
   "metadata": {},
   "outputs": [
    {
     "data": {
      "text/plain": [
       "True"
      ]
     },
     "execution_count": 38,
     "metadata": {},
     "output_type": "execute_result"
    }
   ],
   "source": [
    "#confirming that the no. of values in our 'age_bins' column tallies with the no. of rows in the dataFrame \n",
    "age_bins.count() == no_show['age'].count()"
   ]
  },
  {
   "cell_type": "code",
   "execution_count": 39,
   "id": "9d8719bd",
   "metadata": {},
   "outputs": [
    {
     "data": {
      "image/png": "[encoded data removed]",
      "text/plain": [
       "<Figure size 432x288 with 1 Axes>"
      ]
     },
     "metadata": {},
     "output_type": "display_data"
    }
   ],
   "source": [
    "#countplot visualization using seaborn\n",
    "ax = sns.countplot(x=age_bins, hue=no_show['no_show'])\n",
    "ax.set_title('The relationship between age groups and No-show')\n",
    "##x_tick_labels are not necessary here because our values represent labels for the 3 age groups\n",
    "plt.show()"
   ]
  },
  {
   "cell_type": "markdown",
   "id": "4cf6ac64",
   "metadata": {},
   "source": [
    "The chart above shows the counts for the different age groups, grouped by no-show.\n",
    "There appears to be a weak correlation between age and no-show because the young age group had the highest proportion of patients that didn't show up for their appointments."
   ]
  },
  {
   "cell_type": "markdown",
   "id": "71b176cb",
   "metadata": {},
   "source": [
    "## Let's create simple functions to help us get proportions of our variables and plot them against the no_show column"
   ]
  },
  {
   "cell_type": "code",
   "execution_count": 40,
   "id": "213b7a08",
   "metadata": {},
   "outputs": [],
   "source": [
    "#a function to get the proportions of patients that showed up and those that didn't\n",
    "def variable_proportions(column, DataFrame):\n",
    "    TotalValues_forEachCategory = DataFrame.groupby([column])['no_show'].count()\n",
    "    valuesFor_Show_noShow = DataFrame.groupby([column, 'no_show'])['no_show'].count()\n",
    "    proportions = valuesFor_Show_noShow / TotalValues_forEachCategory\n",
    "    return proportions\n",
    "\n"
   ]
  },
  {
   "cell_type": "code",
   "execution_count": 41,
   "id": "e3a690f8",
   "metadata": {},
   "outputs": [],
   "source": [
    "#a function to plot the proportions against the no_show column\n",
    "def proportions_plot(proportions, column_name, color1, color2, xLabel_1, xLabel_2, main_xlabel):\n",
    "    # Proportions come from get_propotion function.\n",
    "    proportions.unstack().plot(kind='bar', color=[color1, color2]);\n",
    "    plt.ylabel('proprtion of patients')\n",
    "    plt.xlabel(main_xlabel);\n",
    "    plt.title(f'The relationship between {column_name} and no-show', fontsize=15, )\n",
    "    plt.legend(labels=['Show', 'no-show'], fontsize=16 , bbox_to_anchor=(1.05, 0.7));\n",
    "    plt.xticks([0, 1], [xLabel_1, xLabel_2], rotation=0);"
   ]
  },
  {
   "cell_type": "markdown",
   "id": "049057b6",
   "metadata": {},
   "source": [
    "### visualizing the correlation between the 'scholarship' and 'no_show' columns"
   ]
  },
  {
   "cell_type": "code",
   "execution_count": 42,
   "id": "fcee124f",
   "metadata": {},
   "outputs": [
    {
     "data": {
      "image/png": "[encoded data removed]",
      "text/plain": [
       "<Figure size 432x288 with 1 Axes>"
      ]
     },
     "metadata": {},
     "output_type": "display_data"
    }
   ],
   "source": [
    "#getting the proportions\n",
    "proportions = variable_proportions('scholarship', no_show)\n",
    "#plotting\n",
    "proportions_plot(proportions, 'scholarship', 'g', 'r', 'no', 'yes', 'scholarship')\n"
   ]
  },
  {
   "cell_type": "markdown",
   "id": "5ad1ec05",
   "metadata": {},
   "source": [
    "The chart above shows the proportion of patients that did or didn't receive a scholarship, grouped by no-show. \n",
    "Patients who recieve scholarships tend to miss their appointments more than those who do not."
   ]
  },
  {
   "cell_type": "markdown",
   "id": "73769e1f",
   "metadata": {},
   "source": [
    "### visualizing any correlations between chronic medical status of patients and the 'no_show' column"
   ]
  },
  {
   "cell_type": "markdown",
   "id": "47677d03",
   "metadata": {},
   "source": [
    "In the next couple of cells, we will be plotting the various chronic medical conditions to show any correlations between them and patients not showing up for their appointments."
   ]
  },
  {
   "cell_type": "code",
   "execution_count": 43,
   "id": "4009faa1",
   "metadata": {},
   "outputs": [
    {
     "data": {
      "image/png": "[encoded data removed]",
      "text/plain": [
       "<Figure size 432x288 with 1 Axes>"
      ]
     },
     "metadata": {},
     "output_type": "display_data"
    }
   ],
   "source": [
    "#diabetes and no-show\n",
    "#getting the proportions\n",
    "proportions = variable_proportions('diabetes', no_show)\n",
    "#plotting\n",
    "proportions_plot(proportions, 'diabetes', 'g', 'r', 'no', 'yes', 'Diabetes')\n"
   ]
  },
  {
   "cell_type": "markdown",
   "id": "9c9ec169",
   "metadata": {},
   "source": [
    "The chart above shows the proportion of patients with or without Diabetes, grouped by no-show. \n",
    "Diabetes doesn't appear to have any relationship with whether or not patients will show up for their appointments."
   ]
  },
  {
   "cell_type": "code",
   "execution_count": 44,
   "id": "6651cd7f",
   "metadata": {},
   "outputs": [
    {
     "data": {
      "image/png": "[encoded data removed]",
      "text/plain": [
       "<Figure size 432x288 with 1 Axes>"
      ]
     },
     "metadata": {},
     "output_type": "display_data"
    }
   ],
   "source": [
    "#hypertension and no-show\n",
    "#getting the proportions\n",
    "proportions = variable_proportions('hypertension', no_show)\n",
    "#plotting\n",
    "proportions_plot(proportions, 'hypertension', 'g', 'r', 'no', 'yes', 'Hypertension')\n"
   ]
  },
  {
   "cell_type": "markdown",
   "id": "2d8323ac",
   "metadata": {},
   "source": [
    "The chart above shows the proportion of patients with or without hypertension, grouped by no-show. \n",
    "Hypertension doesn't appear to have any relationship with whether or not patients will show up for their appointments."
   ]
  },
  {
   "cell_type": "code",
   "execution_count": 45,
   "id": "b0dfce3b",
   "metadata": {},
   "outputs": [
    {
     "data": {
      "image/png": "[encoded data removed]",
      "text/plain": [
       "<Figure size 432x288 with 1 Axes>"
      ]
     },
     "metadata": {},
     "output_type": "display_data"
    }
   ],
   "source": [
    "#alcoholism and no-show\n",
    "#getting the proportions\n",
    "proportions = variable_proportions('alcoholism', no_show)\n",
    "#plotting\n",
    "proportions_plot(proportions, 'alcoholism', 'g', 'r', 'no', 'yes', 'Alcoholism')"
   ]
  },
  {
   "cell_type": "markdown",
   "id": "28215ae0",
   "metadata": {},
   "source": [
    "The chart above shows the proportion of patients with or without Alcoholism, grouped by no-show. \n",
    "Alcoholism doesn't appear to have any relationship with whether or not patients will show up for their appointments."
   ]
  },
  {
   "cell_type": "code",
   "execution_count": 46,
   "id": "9d1b42b1",
   "metadata": {
    "scrolled": true
   },
   "outputs": [
    {
     "data": {
      "image/png": "[encoded data removed]",
      "text/plain": [
       "<Figure size 432x288 with 1 Axes>"
      ]
     },
     "metadata": {},
     "output_type": "display_data"
    }
   ],
   "source": [
    "#handicap and no-show\n",
    "#getting the proportions\n",
    "proportions = variable_proportions('handicap', no_show)\n",
    "#plotting\n",
    "proportions_plot(proportions, 'handicap', 'g', 'r', 'no', 'yes', 'Handicap')"
   ]
  },
  {
   "cell_type": "markdown",
   "id": "eeeac185",
   "metadata": {},
   "source": [
    "The chart above shows the proportion of handicap patients, grouped by no-show. There appears not to be any relationship with whether or not handicap patients will show up for their appointments."
   ]
  },
  {
   "cell_type": "markdown",
   "id": "8faa1f4e",
   "metadata": {},
   "source": [
    "There appears not to be any correlations between the medical conditions contained in this dataFrame and patients not showing up for their appointments."
   ]
  },
  {
   "cell_type": "markdown",
   "id": "b4daf71d",
   "metadata": {},
   "source": [
    "<a id='conclusions'></a>\n",
    "# Conclusion"
   ]
  },
  {
   "cell_type": "markdown",
   "id": "6d13e091",
   "metadata": {},
   "source": [
    "***"
   ]
  },
  {
   "cell_type": "markdown",
   "id": "911ded5e",
   "metadata": {},
   "source": [
    "\n",
    "Based on my investigation, there seems to be a correlation between scholarchips and patients showing up for their appointments. This may be due to the fact that they pay a commitment fee, or that the decision to schedule an appointment comes from a place of readiness to follow through with the appointment as opposed to being offered free healthcare.<br><br>\n",
    "     Also, gender doesn't seem to have any correlations with no-show as the percentages of either males or females who showed up for their appointments were the same.<br><br>\n",
    "     Chronic medical conditions don't seem to be good determinant factors in the prediction of no-show for patients because there weren't any relationships between the medical status of patients and them showing up for their appointments. <br><br>\n"
   ]
  },
  {
   "cell_type": "markdown",
   "id": "16bc8418",
   "metadata": {},
   "source": [
    "### Limitations\n",
    "The limitations of this dataset include but are not limited to:\n",
    "* Not enough data to deduce strong predictions\n",
    "    * The information contained in this dataset was not sufficient to make strong predictions as most relationships between variables only show weak correlations.\n",
    "* Seemingly off age values\n",
    "    * The age column had a negative value in one of the rows.\n",
    "* Invalid categorical values in the handicap column\n",
    "    * The handicap column had 5 unique values as opposed to 2.\n",
    "\n",
    "* Improper documentation of the dates\n",
    "    * 110499 out of 110527 rows had the same date, any attempt to make correlations between appointment dates and no-show would result in a biased analysis.\n",
    "    "
   ]
  }
 ],
 "metadata": {
  "kernelspec": {
   "display_name": "Python 3 (ipykernel)",
   "language": "python",
   "name": "python3"
  },
  "language_info": {
   "codemirror_mode": {
    "name": "ipython",
    "version": 3
   },
   "file_extension": ".py",
   "mimetype": "text/x-python",
   "name": "python",
   "nbconvert_exporter": "python",
   "pygments_lexer": "ipython3",
   "version": "3.7.13"
  }
 },
 "nbformat": 4,
 "nbformat_minor": 5
}
